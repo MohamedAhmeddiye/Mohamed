{
  "nbformat": 4,
  "nbformat_minor": 0,
  "metadata": {
    "colab": {
      "provenance": [],
      "authorship_tag": "ABX9TyPcLl64V2uiE2523cMvXNLO",
      "include_colab_link": true
    },
    "kernelspec": {
      "name": "python3",
      "display_name": "Python 3"
    },
    "language_info": {
      "name": "python"
    }
  },
  "cells": [
    {
      "cell_type": "markdown",
      "metadata": {
        "id": "view-in-github",
        "colab_type": "text"
      },
      "source": [
        "<a href=\"https://colab.research.google.com/github/MohamedAhmeddiye/Mohamed/blob/main/webscraping.ipynb\" target=\"_parent\"><img src=\"https://colab.research.google.com/assets/colab-badge.svg\" alt=\"Open In Colab\"/></a>"
      ]
    },
    {
      "cell_type": "code",
      "source": [
        "pip install pyfiglet"
      ],
      "metadata": {
        "id": "VgEssj_bwmZh"
      },
      "execution_count": null,
      "outputs": []
    },
    {
      "cell_type": "code",
      "execution_count": null,
      "metadata": {
        "id": "jDUcMfX-DGXk",
        "colab": {
          "base_uri": "https://localhost:8080/"
        },
        "outputId": "f45c0e63-47eb-4570-b85f-909a7af83a1c"
      },
      "outputs": [
        {
          "output_type": "stream",
          "name": "stdout",
          "text": [
            " ____          __  __       _                              _ \n",
            "| __ ) _   _  |  \\/  | ___ | |__   __ _ _ __ ___   ___  __| |\n",
            "|  _ \\| | | | | |\\/| |/ _ \\| '_ \\ / _` | '_ ` _ \\ / _ \\/ _` |\n",
            "| |_) | |_| | | |  | | (_) | | | | (_| | | | | | |  __/ (_| |\n",
            "|____/ \\__, | |_|  |_|\\___/|_| |_|\\__,_|_| |_| |_|\\___|\\__,_|\n",
            "       |___/                                                 \n",
            "\n"
          ]
        }
      ],
      "source": [
        "import pyfiglet\n",
        "\n",
        "print(pyfiglet.figlet_format(\"By Mohamed\"))"
      ]
    },
    {
      "cell_type": "markdown",
      "source": [],
      "metadata": {
        "id": "_apd7QxgEKs_"
      }
    },
    {
      "cell_type": "markdown",
      "source": [
        "**Importing Libraries & Methods**"
      ],
      "metadata": {
        "id": "V-COE7acELBR"
      }
    },
    {
      "cell_type": "code",
      "source": [
        "pip install bs4\n"
      ],
      "metadata": {
        "id": "uWTxWV-sEXlh"
      },
      "execution_count": null,
      "outputs": []
    },
    {
      "cell_type": "code",
      "source": [
        "from bs4 import BeautifulSoup as bs\n",
        "\n",
        "from urllib.request import urlopen\n",
        "import pandas as pd"
      ],
      "metadata": {
        "id": "1WHZteOEFIV3"
      },
      "execution_count": null,
      "outputs": []
    },
    {
      "cell_type": "markdown",
      "source": [
        "**inputting the URL**"
      ],
      "metadata": {
        "id": "HdoyUtVQF2mM"
      }
    },
    {
      "cell_type": "code",
      "source": [
        "url = \"https://wuzzuf.net/search/jobs/?q=data+Analysis&a=navbl\""
      ],
      "metadata": {
        "id": "NQVhG982FrX6"
      },
      "execution_count": null,
      "outputs": []
    },
    {
      "cell_type": "markdown",
      "source": [],
      "metadata": {
        "id": "c02elgVhHII2"
      }
    },
    {
      "cell_type": "markdown",
      "source": [
        "**Create a Client-based Reauest to Get the URL**"
      ],
      "metadata": {
        "id": "cGpO4LA1Gw0X"
      }
    },
    {
      "cell_type": "code",
      "source": [
        "client = urlopen(url)"
      ],
      "metadata": {
        "id": "1lVwEdTxFqVy"
      },
      "execution_count": null,
      "outputs": []
    },
    {
      "cell_type": "markdown",
      "source": [
        "**Getting the html code of the full page**"
      ],
      "metadata": {
        "id": "UXvCq09CHVxH"
      }
    },
    {
      "cell_type": "code",
      "source": [
        "html = client.read()"
      ],
      "metadata": {
        "id": "Tq_lvbCCFq5f"
      },
      "execution_count": null,
      "outputs": []
    },
    {
      "cell_type": "code",
      "source": [
        "html"
      ],
      "metadata": {
        "id": "09TcCzzkHvhB"
      },
      "execution_count": null,
      "outputs": []
    },
    {
      "cell_type": "markdown",
      "source": [
        "**Closing the Request**"
      ],
      "metadata": {
        "id": "QpDywt0UJMtw"
      }
    },
    {
      "cell_type": "code",
      "source": [
        "client.close()"
      ],
      "metadata": {
        "id": "DqVY7oByJY7H"
      },
      "execution_count": null,
      "outputs": []
    },
    {
      "cell_type": "markdown",
      "source": [
        "**Creating an HTML Parser Using BeuatifulSoup**"
      ],
      "metadata": {
        "id": "8OCobat0Ja6h"
      }
    },
    {
      "cell_type": "code",
      "source": [
        "soup = bs(html,\"html.parser\")\n",
        "\n",
        "soup"
      ],
      "metadata": {
        "id": "3XahuNO0J36Z"
      },
      "execution_count": null,
      "outputs": []
    },
    {
      "cell_type": "markdown",
      "source": [
        "**Creating a Container for the Needed Data**"
      ],
      "metadata": {
        "id": "5tyNxgYtJpwB"
      }
    },
    {
      "cell_type": "code",
      "source": [
        "containers = soup.find_all(\"div\",{\"class\":\"css-1gatmva e1v1l3u10\"})\n",
        "\n",
        "len(containers)"
      ],
      "metadata": {
        "colab": {
          "base_uri": "https://localhost:8080/"
        },
        "id": "JkIv28zZJ2PA",
        "outputId": "b8a8828f-7f22-44ac-e6ab-2f5c69b8b383"
      },
      "execution_count": null,
      "outputs": [
        {
          "output_type": "execute_result",
          "data": {
            "text/plain": [
              "15"
            ]
          },
          "metadata": {},
          "execution_count": 16
        }
      ]
    },
    {
      "cell_type": "markdown",
      "source": [
        "**Accessing page Elements**"
      ],
      "metadata": {
        "id": "aWTh_nyhICZx"
      }
    },
    {
      "cell_type": "code",
      "source": [
        "bs.prettify(containers[0])"
      ],
      "metadata": {
        "id": "BkRIN4IdHwHu"
      },
      "execution_count": null,
      "outputs": []
    },
    {
      "cell_type": "code",
      "source": [
        "jtitel = containers[0].div.h2.text\n",
        "jtitel"
      ],
      "metadata": {
        "colab": {
          "base_uri": "https://localhost:8080/",
          "height": 35
        },
        "id": "dLnL0zJQHwOo",
        "outputId": "7ea95da9-61e3-472f-8aae-e31e1ceefc47"
      },
      "execution_count": null,
      "outputs": [
        {
          "output_type": "execute_result",
          "data": {
            "text/plain": [
              "'Sales Data Analysis-Alexandria'"
            ],
            "application/vnd.google.colaboratory.intrinsic+json": {
              "type": "string"
            }
          },
          "metadata": {},
          "execution_count": 24
        }
      ]
    },
    {
      "cell_type": "code",
      "source": [
        "jtitel = containers[0].find_all(\"h2\",{\"class\":\"css-m604qf\"})\n",
        "\n",
        "jtitel[0].text"
      ],
      "metadata": {
        "colab": {
          "base_uri": "https://localhost:8080/",
          "height": 35
        },
        "id": "W7AeRgJoObrY",
        "outputId": "33cddee4-1c48-49b2-8e88-29e8d51581e6"
      },
      "execution_count": null,
      "outputs": [
        {
          "output_type": "execute_result",
          "data": {
            "text/plain": [
              "'Sales Data Analysis-Alexandria'"
            ],
            "application/vnd.google.colaboratory.intrinsic+json": {
              "type": "string"
            }
          },
          "metadata": {},
          "execution_count": 31
        }
      ]
    },
    {
      "cell_type": "code",
      "source": [
        "cname = containers[0].find_all(\"a\",{\"class\":\"css-17s97q8\"})\n",
        "\n",
        "cname[0].text"
      ],
      "metadata": {
        "colab": {
          "base_uri": "https://localhost:8080/",
          "height": 35
        },
        "id": "xqDwwlfXVqE0",
        "outputId": "a257b782-d04a-4fe3-ddf9-d8e3c9d92b99"
      },
      "execution_count": null,
      "outputs": [
        {
          "output_type": "execute_result",
          "data": {
            "text/plain": [
              "'Egyptian Abrasives Co. -'"
            ],
            "application/vnd.google.colaboratory.intrinsic+json": {
              "type": "string"
            }
          },
          "metadata": {},
          "execution_count": 38
        }
      ]
    },
    {
      "cell_type": "code",
      "source": [
        "Jtime = containers[0].find_all(\"div\",{\"class\":\"css-1lh32fc\"})\n",
        "\n",
        "Jtime[0].text"
      ],
      "metadata": {
        "colab": {
          "base_uri": "https://localhost:8080/",
          "height": 35
        },
        "id": "J2lVvkItXZeC",
        "outputId": "efc36dca-e791-4c92-aca3-e7bedb365851"
      },
      "execution_count": null,
      "outputs": [
        {
          "output_type": "execute_result",
          "data": {
            "text/plain": [
              "'Full TimeOn-site'"
            ],
            "application/vnd.google.colaboratory.intrinsic+json": {
              "type": "string"
            }
          },
          "metadata": {},
          "execution_count": 46
        }
      ]
    },
    {
      "cell_type": "markdown",
      "source": [
        "**Bringing it All Together**"
      ],
      "metadata": {
        "id": "oMfROkAONM2x"
      }
    },
    {
      "cell_type": "code",
      "source": [
        "f = open(\"/content/webscraping_data_Analysis.csv\",\"w\")\n",
        "\n",
        "headers = (\"Job Title\",\"Company Name\",\"Jobe Time\",\"\\n\")\n",
        "\n",
        "f.write(\",\".join(headers))"
      ],
      "metadata": {
        "colab": {
          "base_uri": "https://localhost:8080/"
        },
        "id": "tUUGqQaxHwTd",
        "outputId": "198d65ed-cd81-4cfc-d50d-46f45882656f"
      },
      "execution_count": null,
      "outputs": [
        {
          "output_type": "execute_result",
          "data": {
            "text/plain": [
              "34"
            ]
          },
          "metadata": {},
          "execution_count": 102
        }
      ]
    },
    {
      "cell_type": "code",
      "source": [
        "for container in containers:\n",
        "  jtitel = container.find_all(\"h2\",{\"class\":\"css-m604qf\"})\n",
        "\n",
        "  Job_Title = jtitel[0].text.strip()\n",
        "\n",
        "  cname = container.find_all(\"a\",{\"class\":\"css-17s97q8\"})\n",
        "\n",
        "  Company_Name = cname[0].text.strip()\n",
        "\n",
        "  Jtime = container.find_all(\"div\",{\"class\":\"css-1lh32fc\"})\n",
        "\n",
        "  Jobe_Time = Jtime[0].text.strip()\n",
        "\n",
        "  f.write(\"{},{},{}\\n\".format(Job_Title,Company_Name,Jobe_Time))\n",
        "\n",
        "\n",
        "  #print(\"Job Title: {}\".format(Job_Title))\n",
        "  #print(\"Company Name: {}\".format(Company_Name))\n",
        "  #print(\"Jobe Time: {}\".format(Jobe_Time))\n",
        "  #print()\n",
        "\n",
        "\n",
        "\n",
        "f.close()"
      ],
      "metadata": {
        "id": "nt1xx1yvezYc"
      },
      "execution_count": null,
      "outputs": []
    },
    {
      "cell_type": "code",
      "source": [],
      "metadata": {
        "id": "Xr6xG1Aue0PU"
      },
      "execution_count": null,
      "outputs": []
    },
    {
      "cell_type": "markdown",
      "source": [
        "**Inputting the File into Pandas**"
      ],
      "metadata": {
        "id": "xqECYYUKNY3c"
      }
    },
    {
      "cell_type": "markdown",
      "source": [
        "# **Thank You!!**"
      ],
      "metadata": {
        "id": "1xoIcBYMbJVY"
      }
    }
  ]
}